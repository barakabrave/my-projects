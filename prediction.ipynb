{
 "cells": [
  {
   "cell_type": "code",
   "execution_count": 5,
   "id": "83528cdf",
   "metadata": {},
   "outputs": [],
   "source": [
    "import joblib\n",
    "import streamlit as st\n",
    "def predict(data):\n",
    "    clf = joblib.load(\"rf_model.sav\")\n",
    "    return clf.predict(data)\n",
    "\n",
    "#from prediction import predict\n",
    "if st.button (\"Predict\"):  \n",
    "    result = prediction(radius_mean, texture_mean, perimeter_mean)  \n",
    "    st.success ('The output of the above is {}'.format(result))\n",
    "    \n"
   ]
  },
  {
   "cell_type": "code",
   "execution_count": null,
   "id": "9a3aaa89",
   "metadata": {},
   "outputs": [],
   "source": []
  },
  {
   "cell_type": "code",
   "execution_count": null,
   "id": "3ac31ec1",
   "metadata": {},
   "outputs": [],
   "source": []
  }
 ],
 "metadata": {
  "kernelspec": {
   "display_name": "Python 3 (ipykernel)",
   "language": "python",
   "name": "python3"
  },
  "language_info": {
   "codemirror_mode": {
    "name": "ipython",
    "version": 3
   },
   "file_extension": ".py",
   "mimetype": "text/x-python",
   "name": "python",
   "nbconvert_exporter": "python",
   "pygments_lexer": "ipython3",
   "version": "3.9.12"
  }
 },
 "nbformat": 4,
 "nbformat_minor": 5
}
